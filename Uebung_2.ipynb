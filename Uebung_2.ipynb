{
 "cells": [
  {
   "cell_type": "markdown",
   "id": "a5f0c933",
   "metadata": {},
   "source": [
    "# <ins>Übung 24.04.2025</ins>"
   ]
  },
  {
   "cell_type": "markdown",
   "id": "19af81bf",
   "metadata": {},
   "source": [
    "Hinweis: Terminübersicht in Studilöwe und [Webseite](https://cce.uni-wuppertal.de/de/lehre/ingenieurinformatik/) sollte aktuell sein.\n",
    "\n",
    "Themen: \n",
    "- Schleifen\n",
    "- Strings\n",
    "\n"
   ]
  },
  {
   "cell_type": "code",
   "execution_count": null,
   "id": "a2105246-133d-4453-acf4-3037e6051f77",
   "metadata": {},
   "outputs": [],
   "source": []
  },
  {
   "cell_type": "markdown",
   "id": "6dcdb3a2-cb38-41a2-b95e-d71921fa4269",
   "metadata": {},
   "source": [
    "### Aufgabe\n",
    "\n",
    "Für die Zahlen von 1 bis `n`, berechnen Sie die Summe der Zahlen und geben Sie das Ergebnis aus. Wählen Sie für `n` eine beliebige natürliche Zahl, zum Beispiel `n` = 5."
   ]
  },
  {
   "cell_type": "code",
   "execution_count": null,
   "id": "cd167407-ec47-4412-9002-33105b1c9232",
   "metadata": {},
   "outputs": [],
   "source": []
  },
  {
   "cell_type": "markdown",
   "id": "6e655846-5564-4b6a-a924-61f6a2253130",
   "metadata": {},
   "source": [
    "### Aufgabe\n",
    "\n",
    "Erstellen Sie ein Programm, das alle Zahlen von 1 bis `n` überprüft und für jede Zahl ausgibt, ob sie durch 3 oder durch 5 teilbar ist (oder beides). Wählen Sie für `n` eine beliebige Zahl, zum Beispiel `n` = 15."
   ]
  },
  {
   "cell_type": "code",
   "execution_count": null,
   "id": "545b2704-dc58-43d5-b730-0ac96920fe99",
   "metadata": {},
   "outputs": [],
   "source": []
  },
  {
   "cell_type": "markdown",
   "id": "9165542e-7272-49e6-92e3-ca7ed7101a0b",
   "metadata": {},
   "source": [
    "### Aufgabe\n",
    "\n",
    "Erstellen Sie ein Programm, das für die Zahlen von 1 bis `n` die Fakultät (Produkt aller Zahlen von 1 bis `n`) berechnet und ausgibt. Wählen Sie für `n` eine beliebige Zahl, zum Beispiel `n` = 4."
   ]
  },
  {
   "cell_type": "code",
   "execution_count": null,
   "id": "56e2a045",
   "metadata": {},
   "outputs": [],
   "source": []
  },
  {
   "cell_type": "markdown",
   "id": "3e66cf54",
   "metadata": {},
   "source": [
    "### Aufgabe\n",
    "\n",
    "Erstellen Sie ein Programm, das die Zahlen von 1 bis `n` ausgibt, jedoch bei den Zahlen, die durch 3 teilbar sind, das Wort \"Fizz\" und bei den Zahlen, die durch 5 teilbar sind, das Wort \"Buzz\" ausgibt. Für Zahlen, die sowohl durch 3 als auch durch 5 teilbar sind, soll \"FizzBuzz\" ausgegeben werden. Wählen Sie für `n` eine beliebige Zahl, zum Beispiel `n` = 20."
   ]
  },
  {
   "cell_type": "code",
   "execution_count": null,
   "id": "3e00aeb3-9218-46b4-9d35-cf2f91a55588",
   "metadata": {},
   "outputs": [],
   "source": []
  },
  {
   "cell_type": "markdown",
   "id": "6d5c1f76",
   "metadata": {},
   "source": [
    "### Aufgabe\n",
    "\n",
    "Schreiben Sie ein Skript das die [Fibonacci Folge](https://de.wikipedia.org/wiki/Fibonacci-Folge) bis zur Stelle `n` berechnet. Dabei soll die Funktionsvorschrift `n` mal rekursiv ausgeführt werden. \n",
    "\n",
    "$$f_n = f_{n-1} + f_{n-2}$$\n",
    "\n",
    "Startwerte sind:\n",
    "```\n",
    "f_1 = 1\n",
    "f_2 = 2\n",
    "```\n",
    "\n",
    "Geben Sie die einzelnen Elemente der Folge mit dem print()-Befehl aus.\n",
    "\n",
    "\n",
    "Wählen Sie für `n` eine beliebige natürliche Zahl, zum Beispiel `n = 10`."
   ]
  },
  {
   "cell_type": "code",
   "execution_count": null,
   "id": "4a7e091a-f7c9-4d0b-8459-3f6b28adf3c2",
   "metadata": {},
   "outputs": [],
   "source": []
  },
  {
   "cell_type": "code",
   "execution_count": null,
   "id": "eb36bc77-26bb-40af-9290-2db92c11917e",
   "metadata": {},
   "outputs": [],
   "source": []
  },
  {
   "cell_type": "markdown",
   "id": "4ebf8ed2-ebd7-435f-819b-b2751c3da2e2",
   "metadata": {},
   "source": [
    "# Slicing von strings\n",
    "\n",
    "In Python gibt es iterierbare Objekte. Dazu gehören zum Beispiel strings, listen und arrays. Aus diesen Objekten lassen sich einzelne Elemente herauslesen indem sie über ihre Position angesprochen werden. Dazu wird an das Objekt eine eckige Klammer angefügt und eine integer Zahl eingetragen. \n",
    "Am Beispiel eines string könnte das so aussehen:\n",
    "```\n",
    "text = \"Toast\"\n",
    "\n",
    "buchstabe = text[2]\n",
    "\n",
    "print(buchstabe)\n",
    "```\n",
    "\n",
    "Es lassen sich auch Untergruppen auslesen indem zwei Zahlen, ein Startwert und ein Endwert, in die eckigen Klammern geschrieben werden, die durch einen Doppeltpukt getrennt sind. \n",
    "Dies wird \"slicing\" genannt und kann wie folgt aussehen:\n",
    "\n",
    "```\n",
    "text = \"Toast\"\n",
    "\n",
    "buchstaben = text[1:4]\n",
    "\n",
    "print(buchstaben)\n",
    "```\n",
    "\n",
    "Dabei wird der Startwert eingeschlossen, jedoch vor dem Endwert aufgehört.\n",
    "\n",
    "Werden negative Zahlen eingetragen werden die Elemente von hinten gezählt, zum Beispiel so:\n",
    "\n",
    "```\n",
    "text = \"Toast\"\n",
    "\n",
    "buchstabe = text[-1]\n",
    "\n",
    "print(buchstabe)\n",
    "```"
   ]
  },
  {
   "cell_type": "code",
   "execution_count": 1,
   "id": "951347a4-6636-47e9-8268-d2b03428c06a",
   "metadata": {},
   "outputs": [
    {
     "name": "stdout",
     "output_type": "stream",
     "text": [
      "a\n"
     ]
    }
   ],
   "source": [
    "text = \"Toast\"\n",
    "\n",
    "buchstabe = text[2]\n",
    "\n",
    "print(buchstabe)"
   ]
  },
  {
   "cell_type": "code",
   "execution_count": 2,
   "id": "adc7f4ee-202c-4ffb-ad14-c168aeab7ca0",
   "metadata": {},
   "outputs": [
    {
     "name": "stdout",
     "output_type": "stream",
     "text": [
      "oas\n"
     ]
    }
   ],
   "source": [
    "text = \"Toast\"\n",
    "\n",
    "buchstaben = text[1:4]\n",
    "\n",
    "print(buchstaben)"
   ]
  },
  {
   "cell_type": "code",
   "execution_count": 3,
   "id": "5e821063-cf1f-42d2-bf7b-56f085bfd368",
   "metadata": {},
   "outputs": [
    {
     "name": "stdout",
     "output_type": "stream",
     "text": [
      "t\n"
     ]
    }
   ],
   "source": [
    "text = \"Toast\"\n",
    "\n",
    "buchstabe = text[-1]\n",
    "\n",
    "print(buchstabe)"
   ]
  },
  {
   "cell_type": "code",
   "execution_count": null,
   "id": "6dc5000f-0eec-4697-874a-492a49b9a245",
   "metadata": {},
   "outputs": [],
   "source": []
  },
  {
   "cell_type": "code",
   "execution_count": null,
   "id": "aecbda3d-1c3f-4bd8-b70d-6b63dacda347",
   "metadata": {},
   "outputs": [],
   "source": []
  },
  {
   "cell_type": "markdown",
   "id": "52cb11c4-58fb-485d-b279-32a801c4345b",
   "metadata": {},
   "source": [
    "### Aufgabe\n",
    "\n",
    "Nehmen Sie einen Text als string und geben Sie die einzelnen Wörter aus. Nutzen Sie dazu das string slicing. Als Beispiel können Sie den Aufgabentext verwenden."
   ]
  },
  {
   "cell_type": "code",
   "execution_count": null,
   "id": "ad83d6e0-777a-4838-ab63-ea8d68533c66",
   "metadata": {},
   "outputs": [],
   "source": []
  },
  {
   "cell_type": "markdown",
   "id": "fb13bc3b-fd13-4d63-b88f-cf5e63b81b5a",
   "metadata": {
    "tags": []
   },
   "source": [
    "### Aufgabe\n",
    "\n",
    "Gegeben ist ein string. Zerlegen Sie ihn in einzelne Wörter und fügen sie diese wieder zusammen so dass der Text einen Sinn ergibt."
   ]
  },
  {
   "cell_type": "code",
   "execution_count": 4,
   "id": "38643726-0665-4540-bb2a-3d577f034396",
   "metadata": {},
   "outputs": [],
   "source": [
    "wilder_text = \"Sie Richtigkeit der manuell Ergebnisse. der Prüfen die\"\n",
    "\n"
   ]
  },
  {
   "cell_type": "code",
   "execution_count": null,
   "id": "5f1744f0-3eb9-4513-a477-91242ec895b3",
   "metadata": {},
   "outputs": [],
   "source": []
  },
  {
   "cell_type": "markdown",
   "id": "3b05f8c2-eecd-4c4a-aeae-0e3f7ec3c3f5",
   "metadata": {
    "tags": []
   },
   "source": [
    "### Aufgabe\n",
    "\n",
    "Zerlegen Sie einen string in seine Elemente. Dabei sollen loops genutzt werden. \n",
    "1. Geben Sie jedes einzelne Element aus.\n",
    "2. Geben Sie Blöcke mit von je zwei aufeinander folgenden Elementen aus.\n",
    "3. Geben Sie Blöcke mit von je drei aufeinander folgenden Elementen aus.\n",
    "\n",
    "Nehmen Sie den ersten Satz dieser Aufgabe als Beispiel für einen entsprechenden Text (string).\n"
   ]
  },
  {
   "cell_type": "code",
   "execution_count": 5,
   "id": "8bb81d48-a58c-4d62-9eeb-662d26c937e3",
   "metadata": {},
   "outputs": [],
   "source": [
    "text = \"Zerlegen Sie einen string in seine Elemente.\"\n"
   ]
  },
  {
   "cell_type": "code",
   "execution_count": null,
   "id": "43346e17-3395-4390-9bdd-a87fd928aa92",
   "metadata": {},
   "outputs": [],
   "source": []
  }
 ],
 "metadata": {
  "kernelspec": {
   "display_name": "Python 3 (ipykernel)",
   "language": "python",
   "name": "python3"
  },
  "language_info": {
   "codemirror_mode": {
    "name": "ipython",
    "version": 3
   },
   "file_extension": ".py",
   "mimetype": "text/x-python",
   "name": "python",
   "nbconvert_exporter": "python",
   "pygments_lexer": "ipython3",
   "version": "3.10.12"
  }
 },
 "nbformat": 4,
 "nbformat_minor": 5
}
