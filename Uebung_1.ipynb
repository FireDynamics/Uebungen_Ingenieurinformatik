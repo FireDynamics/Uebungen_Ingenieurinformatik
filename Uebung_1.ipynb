{
 "cells": [
  {
   "cell_type": "markdown",
   "id": "aa17d347-c1b9-44e8-b85b-be9cfa45aae3",
   "metadata": {},
   "source": [
    "# <ins>Übung 17.04.2025</ins>"
   ]
  },
  {
   "cell_type": "markdown",
   "id": "673fb695-1c7d-4451-8cac-08b732963140",
   "metadata": {},
   "source": [
    "Themen: \n",
    "- Datentypen\n",
    "- Textausgabe\n",
    "- Bedingungen\n",
    "- Schleifen"
   ]
  },
  {
   "cell_type": "markdown",
   "id": "4da34ba9-d6ff-4b89-974b-ab31f79b95fd",
   "metadata": {},
   "source": [
    "## Arbeiten mit Datentypen"
   ]
  },
  {
   "cell_type": "markdown",
   "id": "393a8638-f70e-4543-a72b-71e523d93da2",
   "metadata": {
    "tags": []
   },
   "source": [
    "### Die 4 Datentypen\n",
    "\n",
    "In der Vorlesung haben Sie die vier Datentypen kennengelernt. Zudem haben sie gelernt wie sie sich den \n",
    "Datentyp einer Variable ausgeben lassen können. Im folgenden werden vier Variablen erstellt. Lassen Sie \n",
    "sich jeweil den Datentyp jeder Variable ausgeben.\n",
    "\n",
    "<details style=\"border: 1px solid #bce8f1; background-color: #d9edf7; padding: 10px 15px; border-radius: 4px; margin: 1em 0;\">\n",
    "  <summary style=\"font-weight: bold; color: #31708f; cursor: pointer;\">💡 Tipps</summary>\n",
    "  <p style=\"color: #333333;\">Die Funktion, die gesucht wird ist die <code>type()</code>-Funktion</p>\n",
    "</details>"
   ]
  },
  {
   "cell_type": "code",
   "execution_count": 1,
   "id": "c4acf839-64b9-41a1-a975-bbc842858d58",
   "metadata": {},
   "outputs": [],
   "source": [
    "a = 42\n",
    "b = \"zweiundvierzig\"\n",
    "c = 42.00\n",
    "d = True"
   ]
  },
  {
   "cell_type": "code",
   "execution_count": null,
   "id": "863b38d9-1668-432f-bec8-9c4b278b423d",
   "metadata": {},
   "outputs": [],
   "source": []
  },
  {
   "cell_type": "markdown",
   "id": "e92183c5-a3c6-4909-a2a5-25cb5b3eecd9",
   "metadata": {},
   "source": [
    "### Arbeiten mit Strings\n",
    "\n",
    "Strings lassen sich auf verschiedene Weisen zusammenführen. Dieses Zusammenfügen wird im Englischen \"concatenate\" genannt.\n",
    "\n",
    "In der Vorlesung haben Sie bereits den \"+\" Operator zum Zusammenfügen kennegelernt:\n",
    "\n",
    "```\n",
    "\"Guten \" + \"Tag!\"\n",
    "```\n",
    "\n",
    "Oder man kann formatierte strings (f-strings) verwenden:\n",
    "```\n",
    "tageszeit = \"Tag\"\n",
    "f\"Guten {tageszeit}!\"\n",
    "```\n",
    "\n",
    "<details open style=\"border: 1px solid #a94442; background-color: #f2dede; padding: 10px 15px; border-radius: 4px; margin: 1em 0;\">\n",
    "  <summary style=\"font-weight: bold; color: #a94442; cursor: pointer;\">⚠️ Warnung</summary>\n",
    "  <p style=\"color: #333333;\">Es ist wichtig auf die Datentypen zu achten. Zahlen, wie interger (`int`; ganze Zahl) oder floating point values (`float`; Kommazahl) lassen sich beispielsweise nicht direkt an strings anfügen.</p>\n",
    "</details>"
   ]
  },
  {
   "cell_type": "markdown",
   "id": "84e6987a-3d84-4262-9049-05bd529e5e4e",
   "metadata": {},
   "source": [
    "#### Aufgabe\n",
    "\n",
    "Schreiben Sie ein einfaches Skript, das drei Variablen **farbe**, **tier_plural** und **zahl** (als string) enthält.  \n",
    "Geben Sie diese Variablen, innerhalb eines Textes aus. Nutzen Sie dazu die drei oben vorgestellten Methoden, auch gerne weitere wenn Sie möchten. \n",
    "\n",
    "Auf der Konsole soll erscheinen:  \n",
    "**tier_plural** sind **farbe**.  \n",
    "**tier_plural** sind sind die größten Tiere der Welt.  \n",
    "Sie sind nämlich **zahl** cm groß.\n",
    "\n",
    "<details open style=\"border: 1px solid #3c763d; background-color: #dff0d8; padding: 10px 15px; border-radius: 4px; margin: 1em 0;\">\n",
    "  <summary style=\"font-weight: bold; color: #3c763d; cursor: pointer;\">✅ Hinweis</summary>\n",
    "  <p style=\"color: #333333;\">Das Kontrollzeichen um in die nächste Zeile zu springen erzeugen sie mit \"\\n\". Es handelt sich dabei um das \"newline\"-Zeichen</p>\n",
    "</details>"
   ]
  },
  {
   "cell_type": "code",
   "execution_count": null,
   "id": "b78bb0da-16f3-44fa-b54b-56e5ab82f347",
   "metadata": {},
   "outputs": [],
   "source": []
  },
  {
   "cell_type": "markdown",
   "id": "c2db758f-7428-4201-9396-47017609998b",
   "metadata": {},
   "source": [
    "#### Aufgabe\n",
    "\n",
    "Wie Sie bereits festgestellt haben, können Sie beim Programmieren einfach drauf loslegen und Sachen ausprobieren. Mit dem \"+\"-Symbol lassen sich Strings zusammenfügen. Aber wir haben ja noch mehr mathematische Symbole. Was macht denn zum Beispiel \"*\". Oder \"-\" oder \"/\"?"
   ]
  },
  {
   "cell_type": "code",
   "execution_count": null,
   "id": "3fb8481d-9c22-45a9-a808-38a0b4ef448d",
   "metadata": {},
   "outputs": [],
   "source": []
  },
  {
   "cell_type": "markdown",
   "id": "c7ea6586-bd50-4ba0-9921-fffaf6c81a66",
   "metadata": {},
   "source": [
    "### Aufgabe\n",
    "\n",
    "Berechnen Sie folgende Ausdrücke in Python. Prüfen Sie manuell die Richtigkeit der Ergebnisse. Die Ausgabe soll dabei einmal als string und einmal als formatierter string generiert werden.\n",
    "\n",
    "<details open style=\"border: 1px solid #3c763d; background-color: #dff0d8; padding: 10px 15px; border-radius: 4px; margin: 1em 0;\">\n",
    "  <summary style=\"font-weight: bold; color: #3c763d; cursor: pointer;\">✅ Hinweis</summary>\n",
    "  <p style=\"color: #333333;\">Möchten sie in einem Print-Befehl gemischte Datentypen verwenden, ohne sich Gedanken um Typecasting (das Umwandeln der Datentypen) zu machen, können sie auch einfach Kommata benutzen: <br>\n",
    "  print(\"Es folgt eine Variable\", variable_1, \"Es folgt noch eine Variable\", variable_2\")</p>\n",
    "</details>\n",
    "\n",
    "<details style=\"border: 1px solid #bce8f1; background-color: #d9edf7; padding: 10px 15px; border-radius: 4px; margin: 1em 0;\">\n",
    "  <summary style=\"font-weight: bold; color: #31708f; cursor: pointer;\">💡 Tipps</summary>\n",
    "  <ul style=\"color: #333333;\">\n",
    "    <li>Ganzzahlige Division: <code>//</code></li>\n",
    "    <li>Modulrechnung (Rest): <code>%</code></li>\n",
    "  </ul>\n",
    "</details>\n",
    "Für jeweils zwei aufeinander folgende Zahlen:\n",
    "\n",
    "1. Addieren Sie die Zahlen.\n",
    "2. Bestimmen Sie deren Verhältnis.\n",
    "3. Berechnen Sie die ganzzahlige Division und deren Rest.\n",
    "4. Ist der Rest der Division größer als 20?\n",
    "5. Prüfen sie für je drei aufeinander folgende Zahlen ob die mittlere größer ist als die erste und kleiner als die letzte der Dreiergruppe. \n",
    "\n",
    "mit:"
   ]
  },
  {
   "cell_type": "code",
   "execution_count": 3,
   "id": "becb6614-e782-4500-8cf7-2b9951fa3a83",
   "metadata": {},
   "outputs": [],
   "source": [
    "a = 5\n",
    "b = 0\n",
    "c = 23\n",
    "d = -46\n",
    "e = 833\n",
    "f = 15 \n",
    "g = 4\n",
    "h = 27 \n",
    "i = 5\n",
    "j = 34 \n",
    "k = 6\n",
    "l = 51 "
   ]
  },
  {
   "cell_type": "code",
   "execution_count": null,
   "id": "7cda65e2-9ed9-4cf9-b0ea-a8dd49f46f83",
   "metadata": {},
   "outputs": [],
   "source": []
  },
  {
   "cell_type": "markdown",
   "id": "35e9c759-3151-4a8f-839b-ce50d0c652bd",
   "metadata": {},
   "source": [
    "# Schleifen\n"
   ]
  },
  {
   "cell_type": "markdown",
   "id": "702fde76-780b-4183-8818-d713b5e20e1f",
   "metadata": {},
   "source": [
    "Möchten wir Schritte in einem Programm wiederholen, so verwenden wir Schleifen. Es gibt zwei Typen von Schleifen, die for-Schleife und die while-Schleife.\n",
    "\n",
    "<details open style=\"border: 1px solid #3c763d; background-color: #dff0d8; padding: 10px 15px; border-radius: 4px; margin: 1em 0;\">\n",
    "  <summary style=\"font-weight: bold; color: #3c763d; cursor: pointer;\">✅ Hinweis</summary>\n",
    "  <p style=\"color: #333333;\"><strong>Die <code>for</code>-Schleife</strong> wird verwendet, um eine Anweisung oder einen Block von Anweisungen für eine festgelegte Anzahl von Wiederholungen auszuführen.</p>\n",
    "  <p style=\"color: #333333;\"><strong>Grundstruktur:</strong></p>\n",
    "  <pre><code>for variable in sequenz:\n",
    "    # Anweisungen, die wiederholt werden sollen\n",
    "</code></pre>\n",
    "  <p style=\"color: #333333;\"><strong>Beispiel:</strong></p>\n",
    "  <pre><code>for i in range(5):\n",
    "    print(i)</code></pre>\n",
    "  <p style=\"color: #333333;\">➡️ Gibt die Zahlen 0 bis 4 aus.</p>\n",
    "</details>\n",
    "\n",
    "<details open style=\"border: 1px solid #3c763d; background-color: #dff0d8; padding: 10px 15px; border-radius: 4px; margin: 1em 0;\">\n",
    "  <summary style=\"font-weight: bold; color: #3c763d; cursor: pointer;\">✅ Hinweis</summary>\n",
    "  <p style=\"color: #333333;\"><strong>Die <code>while</code>-Schleife</strong> wird verwendet, wenn man nicht weiß, wie oft die Schleife ausgeführt werden soll – sie läuft, solange eine Bedingung erfüllt ist.</p>\n",
    "  <p style=\"color: #333333;\"><strong>Wichtig:</strong> Die Laufvariable muss <em>vor</em> der Schleife initialisiert werden, da sie sonst nicht existiert, wenn die Bedingung zum ersten Mal geprüft wird.</p>\n",
    "  <p style=\"color: #333333;\"><strong>Grundstruktur:</strong></p>\n",
    "  <pre><code>while Bedingung:\n",
    "    # Anweisungen, die wiederholt werden sollen\n",
    "</code></pre>\n",
    "  <p style=\"color: #333333;\"><strong>Beispiel:</strong></p>\n",
    "  <pre><code>i = 0\n",
    "while i &lt; 5:\n",
    "    print(i)\n",
    "    i += 1</code></pre>\n",
    "  <p style=\"color: #333333;\">➡️ Gibt die Zahlen 0 bis 4 aus.</p>\n",
    "</details>"
   ]
  },
  {
   "cell_type": "markdown",
   "id": "459df375-3fa9-4b74-8a3d-4f4ab4c5edea",
   "metadata": {},
   "source": [
    "## for-Schleifen"
   ]
  },
  {
   "cell_type": "markdown",
   "id": "3f5e0e89-7dd3-4202-8ae3-2a8ad7112a1d",
   "metadata": {},
   "source": [
    "### Aufgabe\n",
    "\n",
    "Für die Zahlen von 1 bis `n`, prüfen Sie ob die Zahl gerade oder ungerade ist. Geben Sie das Ergebnis in einem kleinen Antwortsatz aus.\n",
    "\n",
    "\n",
    "Wählen Sie für `n` eine beliebige natürliche Zahl, zum Beispiel `n = 10`."
   ]
  },
  {
   "cell_type": "code",
   "execution_count": null,
   "id": "bfb82602-ec7e-4ba7-9502-3e04b27678c5",
   "metadata": {},
   "outputs": [],
   "source": []
  },
  {
   "cell_type": "markdown",
   "id": "98c9b6a3-3b07-43ff-afb5-b2596ca4d0d5",
   "metadata": {},
   "source": [
    "## while-Schleifen"
   ]
  },
  {
   "cell_type": "markdown",
   "id": "b1729d7b-0359-436e-ab2f-5886cc31f356",
   "metadata": {},
   "source": [
    "### Aufgabe\n",
    "\n",
    "Schreiben Sie die for-Schleife von Eben in eine while-Schleife um.\n",
    "\n"
   ]
  },
  {
   "cell_type": "code",
   "execution_count": null,
   "id": "a3b9fa98-9d32-4191-a7fd-d914c22bf2c2",
   "metadata": {},
   "outputs": [],
   "source": []
  }
 ],
 "metadata": {
  "kernelspec": {
   "display_name": "Python 3 (ipykernel)",
   "language": "python",
   "name": "python3"
  },
  "language_info": {
   "codemirror_mode": {
    "name": "ipython",
    "version": 3
   },
   "file_extension": ".py",
   "mimetype": "text/x-python",
   "name": "python",
   "nbconvert_exporter": "python",
   "pygments_lexer": "ipython3",
   "version": "3.10.12"
  }
 },
 "nbformat": 4,
 "nbformat_minor": 5
}
