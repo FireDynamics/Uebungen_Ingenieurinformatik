{
  "metadata": {
    "kernelspec": {
      "name": "python",
      "display_name": "Python (Pyodide)",
      "language": "python"
    },
    "language_info": {
      "codemirror_mode": {
        "name": "python",
        "version": 3
      },
      "file_extension": ".py",
      "mimetype": "text/x-python",
      "name": "python",
      "nbconvert_exporter": "python",
      "pygments_lexer": "ipython3",
      "version": "3.8"
    }
  },
  "nbformat_minor": 5,
  "nbformat": 4,
  "cells": [
    {
      "id": "1cea5290-8b47-4994-863d-d89e2b9177f8",
      "cell_type": "markdown",
      "source": "# Übersicht zu bereits erstellten Aufgaben",
      "metadata": {}
    },
    {
      "id": "dc44ea43-7c7e-4c1d-ab88-b4d45e9fac2f",
      "cell_type": "markdown",
      "source": "## 1 Einführung & erste Schritte",
      "metadata": {}
    },
    {
      "id": "23a9532a-0fe3-41d8-b6ce-65758d1ba851",
      "cell_type": "markdown",
      "source": "**Erstellte und formatierte Aufgaben**\n- string / f-string (Variablen) [2_Python]\n- Print [2_Python]\n- Schleifen (a*(a-4)*b) [2_Python]\n- if [2_Python]\n- while-Schleifen [2_Python]\n\n**Erstellte Aufgaben**\n- Zwei Rauten 1 [2_Python-II]\n- Zwei Rauten 2 [2_Python-II]\n- Zwei Rauten 3 [2_Python-II]\n- Zwei Rauten 4 [2_Python-II]\n- Zwei Rauten 5 [2_Python-II]\n- Verschiede Ausgaben (string/f-string) [2_Python-III]\n- Zahlen in römische Zahhlen darstellen (if/else) [2_Python-III]\n- Haussitting (if/else/fstring/string) [2_Python-III]\n- Theater-Karten (if/else) [2_Python-III]\n- Passwortverschlüsselung (Rechnen mit Variablen + if/elif/else/while) [2_Python-III]\n- Das Tunier der Messerwerfer (for/random/for) [2_Python-III]\n- Schleifen [2_Python-III]\n\n",
      "metadata": {}
    },
    {
      "id": "6255c132-694a-4431-8fd6-7ad136b633be",
      "cell_type": "markdown",
      "source": "## 2 Python-Grundlagen II",
      "metadata": {}
    },
    {
      "id": "93902f58-bd11-4613-a70e-609a37b9c1f1",
      "cell_type": "markdown",
      "source": "**Erstellte und formatierte Aufgaben**\n- Liste (um)sortieren [Diverses]\n- Listen [2_Python]\n- Bunter Nudelauflauf [2_Python]\n- To-Do-Liste (Listenvergleichen) [2_Python-IV]\n\n**Erstellte Aufgaben**\n- Zwei Rauten 6 [2_Python-II]\n- Zwei Rauten 7 [2_Python-II]\n- Busverbindung planen [2_Python-II]\n- Mathe [2_Python-II]\n- Elemente einer Liste durch 2 bzw. n teilen (liste + def) [2_Python-III]\n\n",
      "metadata": {}
    },
    {
      "id": "2b965a91-1761-4926-a95c-e7ca009c0e10",
      "cell_type": "markdown",
      "source": "## 3 Python-Grundlagen III",
      "metadata": {}
    },
    {
      "id": "bba2157f-2355-4f63-80de-a2a37c37f6ae",
      "cell_type": "markdown",
      "source": "**Formatiert und kontrollierte Aufgaben**\n- Statische Bestimmtheit verschiedener Systeme\n- Die Berechnung verschiedener Schwerpunkte\n- Oberflächentemperatur einer Außenwand\n- Einfeldträger\n- Casting (sehr viel if/else)\n\n**Erstellte und formatierte Aufgaben**\n- Funktion (Währung umrechnen) [2_Python]\n- float_int [2_Python]\n- Schneider Bautabellen: Umrechnungstafel (def) [2_Python-IV]\n\n**Erstellte Aufgaben**\n- … and another one [Diverses]\n- Mörder-Mystery [2_Python-II]\n- Sonderangebot (if/else + def) [2_Python-III]\n- Die Caesar-Verschlüsselung (if/for/def) [2_Python-III]\n\n",
      "metadata": {}
    },
    {
      "id": "68719de1-4804-41fc-9bab-8d7b870c57b2",
      "cell_type": "markdown",
      "source": "## 4 matplotlib",
      "metadata": {}
    },
    {
      "id": "3e2b2929-7821-480e-8017-42ac1f0f204c",
      "cell_type": "markdown",
      "source": "**Erstellte und formatierte Aufgaben**\n- Die (um)sortierte Liste plotten [Diverses]\n\n**Erstellte Aufgaben**\n- Nochmehr Plotten [Diverses]\n- Plotten? [Diverses]\n- Plotten?! [Diverses]\n- Plotten! [Diverses]\n- Bubbles [Diverses]\n- Scatter [Diverses]\n- Eine weitere Aufgabe [Diverses]\n\n",
      "metadata": {}
    },
    {
      "id": "1d1e4bbc-05b5-4644-80b6-e198ca765e90",
      "cell_type": "markdown",
      "source": "## 5  NumPy I",
      "metadata": {}
    },
    {
      "id": "b565b075-4bb4-4a1c-bb0a-bed988c495c2",
      "cell_type": "markdown",
      "source": "**Erstellte und formatierte Aufgaben**\n- blub [2_Python]\n- Informationen über arr (Array) [2_Python-IV]\n- Arrays [2_Python-V]\n",
      "metadata": {}
    },
    {
      "id": "79987fba-cd36-4dcd-a894-dfc0eadc1206",
      "cell_type": "markdown",
      "source": "## Aufgaben zu Markdown ",
      "metadata": {}
    },
    {
      "id": "e2471157-ab74-4dde-97ce-2180497d3576",
      "cell_type": "markdown",
      "source": "**Erstellte und formatierte Aufgaben**\n- Markdown (Text und Formeln) [2_Python]\n- Markdown II [2_Python]\n- Markdown III (Mathe) [2_Python]",
      "metadata": {}
    },
    {
      "id": "9df7b479-09e6-4047-9613-746259dde83e",
      "cell_type": "code",
      "source": "",
      "metadata": {
        "trusted": true
      },
      "outputs": [],
      "execution_count": null
    }
  ]
}
