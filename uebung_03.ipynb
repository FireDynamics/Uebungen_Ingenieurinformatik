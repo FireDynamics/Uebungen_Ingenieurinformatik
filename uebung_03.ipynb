{
 "cells": [
  {
   "cell_type": "markdown",
   "metadata": {},
   "source": [
    "# <ins>Übung 08.05.2025</ins>\n",
    "\n",
    "Themen: \n",
    " - Arbeiten mit Listen\n",
    "\n",
    " In der Vorlesung haben Sie grundlegende Konzepte zu Listen in Python kennengelernt: wie man Listen erstellt, auf Elemente zugreift, Listen iteriert und welche typischen Stolperfallen es beim Umgang mit Listen gibt. In den folgenden Aufgaben können Sie das Gelernte praktisch anwenden und vertiefen.\n",
    "\n",
    "https://firedynamics.github.io/Vorlesung_Ingenieurinformatik/output/book/books/w-python/skript/listen_iterationen.html"
   ]
  },
  {
   "cell_type": "markdown",
   "metadata": {},
   "source": [
    "### Aufgabe 1:\n",
    "\n",
    "Erstelle eine Liste mit den Zahlen 23, 67, -28 und 9\n",
    "\n",
    "Erwarteter Output:\n",
    "```text\n",
    "[23, 67, -28, 9]\n",
    "```"
   ]
  },
  {
   "cell_type": "code",
   "execution_count": null,
   "metadata": {},
   "outputs": [],
   "source": []
  },
  {
   "cell_type": "markdown",
   "metadata": {},
   "source": [
    "### Aufgabe 2:\n",
    "\n",
    "Erstelle eine Liste von 0 bis 5:\n",
    "- manuell\n",
    "- mit `range()`\n",
    "- mit einer `for`-Loop\n",
    "- mit einer `while`-Loop"
   ]
  },
  {
   "cell_type": "code",
   "execution_count": null,
   "metadata": {},
   "outputs": [],
   "source": []
  },
  {
   "cell_type": "markdown",
   "metadata": {},
   "source": [
    "### Aufgabe 3:\n",
    "\n",
    "Erstelle eine Liste von von 15 bis 135 in 15-er Schritten\n",
    "- mit `range()`\n",
    "- mit einem `for`-Loop\n",
    "- mit einem `while`-Loop"
   ]
  },
  {
   "cell_type": "code",
   "execution_count": null,
   "metadata": {},
   "outputs": [],
   "source": []
  },
  {
   "cell_type": "markdown",
   "metadata": {},
   "source": [
    "### Aufgabe 4: Werte aus einer Liste ausgebe\n",
    "\n",
    "Aufgabe:\n",
    "Gegeben ist eine Liste von Farben. \n",
    "\n",
    "```python\n",
    "farben = [\"rot\", \"grün\", \"blau\", \"gelb\"]\n",
    "```\n",
    "\n",
    "Geben Sie jeden Eintrag:\n",
    "\n",
    "a) händisch aus\n",
    "\n",
    "b) mit einer Schleife aus.\n",
    "\n",
    "Erwarteter Output:\n",
    "```text\n",
    "rot\n",
    "grün\n",
    "blau\n",
    "gelb\n",
    "```"
   ]
  },
  {
   "cell_type": "code",
   "execution_count": null,
   "metadata": {},
   "outputs": [],
   "source": []
  },
  {
   "cell_type": "markdown",
   "metadata": {},
   "source": [
    "### Aufgabe 5: Indirekte Iteration\n",
    "\n",
    "Aufgabe:\n",
    "Geben Sie jeden Eintrag zusammen mit seinem Index aus.\n",
    "\n",
    "```python\n",
    "zahlen = [3, 7, 2, 9]\n",
    "```\n",
    "\n",
    "Erwarteter Output:\n",
    "```text\n",
    "Index 0: 3  \n",
    "Index 1: 7  \n",
    "Index 2: 2  \n",
    "Index 3: 9\n",
    "```"
   ]
  },
  {
   "cell_type": "code",
   "execution_count": null,
   "metadata": {},
   "outputs": [],
   "source": []
  },
  {
   "cell_type": "markdown",
   "metadata": {},
   "source": [
    "### Aufgabe 6: Neue Liste mit verdoppelten Werten\n",
    "\n",
    "Aufgabe:\n",
    "Erstellen Sie eine neue Liste, in der jeder Wert doppelt so groß ist wie in der Original-Liste.\n",
    "\n",
    "```python\n",
    "original = [1, 2, 3, 4]\n",
    "```\n",
    "\n",
    "Erwarteter Output:\n",
    "```text\n",
    "[2, 4, 6, 8]\n",
    "```"
   ]
  },
  {
   "cell_type": "code",
   "execution_count": null,
   "metadata": {},
   "outputs": [],
   "source": []
  },
  {
   "cell_type": "markdown",
   "metadata": {},
   "source": [
    "### Aufgabe 7:\n",
    "\n",
    "Erzeugen Sie Liste von -10 bis 10 mit der range Funktion und speichern Sie diese in einer Variablen. Benutzen Sie ausschließlich die Methoden der Listenklasse um folgende Manipulationen durchzuführen. \n",
    "Geben Sie die Liste nach jeder Änderung aus.\n",
    "\n",
    "1. Fügen Sie den Wert 11 am Ende der Liste ein.\n",
    "2. Erweitern Sie die Liste um [12, 13, 14].\n",
    "3. Entfernen Sie das dritte, sechste und achte Element der Liste.\n",
    "4. Fügen Sie an der zehnten Stelle den Wert 217 ein.\n",
    "5. Entfernen Sie alle geraden Zahlen aus der Liste\n",
    "6. Sortieren Sie die Liste aufsteigend.\n",
    "\n",
    "Tipp: am Ende sieht die Liste wiefolgt aus: \n",
    "Erwarteter Output:\n",
    "```text\n",
    "[-9, -7, -4, -1, 1, 3, 5, 7, 9, 11, 13, 217]\n",
    "``` "
   ]
  },
  {
   "cell_type": "code",
   "execution_count": null,
   "metadata": {},
   "outputs": [],
   "source": []
  }
 ],
 "metadata": {
  "language_info": {
   "name": "python"
  }
 },
 "nbformat": 4,
 "nbformat_minor": 2
}
