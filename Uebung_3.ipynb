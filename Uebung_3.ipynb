{
 "cells": [
  {
   "cell_type": "markdown",
   "id": "aa17d347-c1b9-44e8-b85b-be9cfa45aae3",
   "metadata": {},
   "source": [
    "# <ins>Übung 08.05.2025</ins>"
   ]
  },
  {
   "cell_type": "markdown",
   "id": "673fb695-1c7d-4451-8cac-08b732963140",
   "metadata": {},
   "source": [
    "Themen: \n",
    " - Arbeiten mit Listen"
   ]
  },
  {
   "cell_type": "markdown",
   "id": "c3c4c12f",
   "metadata": {},
   "source": [
    "In der Vorlesung haben Sie grundlegende Konzepte zu Listen in Python kennengelernt: wie man Listen erstellt, auf Elemente zugreift, Listen iteriert und welche typischen Stolperfallen es beim Umgang mit Listen gibt. In den folgenden Aufgaben können Sie das Gelernte praktisch anwenden und vertiefen."
   ]
  },
  {
   "cell_type": "markdown",
   "id": "eec72f17",
   "metadata": {},
   "source": [
    "### Aufgabe 1: Werte aus einer Liste ausgebe\n",
    "\n",
    "Aufgabe:\n",
    "Gegeben ist eine Liste von Farben. \n",
    "\n",
    "```python\n",
    "farben = [\"rot\", \"grün\", \"blau\", \"gelb\"]\n",
    "```\n",
    "\n",
    "Geben Sie jeden Eintrag:\n",
    "\n",
    "a) händisch aus\n",
    "\n",
    "b) mit einer Schleife aus.\n",
    "\n",
    "Erwarteter Output:\n",
    "```text\n",
    "rot\n",
    "grün\n",
    "blau\n",
    "gelb\n",
    "```"
   ]
  },
  {
   "cell_type": "code",
   "execution_count": null,
   "id": "c4acf839-64b9-41a1-a975-bbc842858d58",
   "metadata": {},
   "outputs": [],
   "source": [
    "farben = [\"rot\", \"grün\", \"blau\", \"gelb\"]"
   ]
  },
  {
   "cell_type": "markdown",
   "id": "00a33d9e",
   "metadata": {},
   "source": [
    "### Aufgabe 2: Indirekte Iteration\n",
    "\n",
    "Aufgabe:\n",
    "Geben Sie jeden Eintrag zusammen mit seinem Index aus.\n",
    "\n",
    "```python\n",
    "zahlen = [3, 7, 2, 9]\n",
    "```\n",
    "\n",
    "Erwarteter Output:\n",
    "```text\n",
    "Index 0: 3  \n",
    "Index 1: 7  \n",
    "Index 2: 2  \n",
    "Index 3: 9\n",
    "```"
   ]
  },
  {
   "cell_type": "code",
   "execution_count": null,
   "id": "b4be9ad4",
   "metadata": {},
   "outputs": [],
   "source": [
    "zahlen = [3, 7, 2, 9]"
   ]
  },
  {
   "cell_type": "markdown",
   "id": "98075fb9",
   "metadata": {},
   "source": [
    "### Aufgabe 3: Neue Liste mit verdoppelten Werten\n",
    "\n",
    "Aufgabe:\n",
    "Erstellen Sie eine neue Liste, in der jeder Wert doppelt so groß ist wie in der Original-Liste.\n",
    "\n",
    "```python\n",
    "original = [1, 2, 3, 4]\n",
    "```\n",
    "\n",
    "Erwarteter Output:\n",
    "```text\n",
    "[2, 4, 6, 8]\n",
    "```"
   ]
  },
  {
   "cell_type": "code",
   "execution_count": null,
   "id": "177cae44",
   "metadata": {},
   "outputs": [],
   "source": [
    "original = [1, 2, 3, 4]"
   ]
  },
  {
   "cell_type": "markdown",
   "id": "8994c0fa",
   "metadata": {},
   "source": []
  }
 ],
 "metadata": {
  "kernelspec": {
   "display_name": "Python 3",
   "language": "python",
   "name": "python3"
  },
  "language_info": {
   "codemirror_mode": {
    "name": "ipython",
    "version": 3
   },
   "file_extension": ".py",
   "mimetype": "text/x-python",
   "name": "python",
   "nbconvert_exporter": "python",
   "pygments_lexer": "ipython3",
   "version": "3.12.9"
  }
 },
 "nbformat": 4,
 "nbformat_minor": 5
}
