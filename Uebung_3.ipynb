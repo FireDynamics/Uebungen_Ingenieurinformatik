{
 "cells": [
  {
   "cell_type": "markdown",
   "id": "aa17d347-c1b9-44e8-b85b-be9cfa45aae3",
   "metadata": {},
   "source": [
    "# <ins>Übung 08.05.2025</ins>"
   ]
  },
  {
   "cell_type": "markdown",
   "id": "673fb695-1c7d-4451-8cac-08b732963140",
   "metadata": {},
   "source": [
    "Themen: \n",
    " - Arbeiten mit Listen"
   ]
  },
  {
   "cell_type": "markdown",
   "id": "c3c4c12f",
   "metadata": {},
   "source": [
    "In der Vorlesung haben Sie grundlegende Konzepte zu Listen in Python kennengelernt: wie man Listen erstellt, auf Elemente zugreift, Listen iteriert und welche typischen Stolperfallen es beim Umgang mit Listen gibt. In den folgenden Aufgaben können Sie das Gelernte praktisch anwenden und vertiefen.\n",
    "\n",
    "https://firedynamics.github.io/Vorlesung_Ingenieurinformatik/output/book/books/w-python/skript/listen_iterationen.html"
   ]
  },
  {
   "cell_type": "markdown",
   "id": "11d6ffdb",
   "metadata": {},
   "source": [
    "### Aufgabe 1:\n",
    "\n",
    "Erstelle eine Liste mit den Zahlen 23, 67, -28 und 9\n",
    "\n",
    "Erwarteter Output:\n",
    "```text\n",
    "[23, 67, -28, 9]\n",
    "```"
   ]
  },
  {
   "cell_type": "code",
   "execution_count": null,
   "id": "3e1fdcba",
   "metadata": {},
   "outputs": [],
   "source": []
  },
  {
   "cell_type": "markdown",
   "id": "f74da625",
   "metadata": {},
   "source": [
    "### Aufgabe 2:\n",
    "\n",
    "Erstelle eine Liste von 0 bis 5:\n",
    "- manuell\n",
    "- mit `range()`\n",
    "- mit einer `for`-Loop\n",
    "- mit einer `while`-Loop"
   ]
  },
  {
   "cell_type": "code",
   "execution_count": null,
   "id": "d00e5591",
   "metadata": {},
   "outputs": [],
   "source": []
  },
  {
   "cell_type": "markdown",
   "id": "50c7d42c",
   "metadata": {},
   "source": [
    "### Aufgabe 3:\n",
    "\n",
    "Erstelle eine Liste von von 15 bis 135 in 15-er Schritten\n",
    "- mit `range()`\n",
    "- mit einem `for`-Loop\n",
    "- mit einem `while`-Loop"
   ]
  },
  {
   "cell_type": "code",
   "execution_count": null,
   "id": "72b9fe17",
   "metadata": {},
   "outputs": [],
   "source": []
  },
  {
   "cell_type": "markdown",
   "id": "eec72f17",
   "metadata": {},
   "source": [
    "### Aufgabe 4: Werte aus einer Liste ausgebe\n",
    "\n",
    "Aufgabe:\n",
    "Gegeben ist eine Liste von Farben. \n",
    "\n",
    "```python\n",
    "farben = [\"rot\", \"grün\", \"blau\", \"gelb\"]\n",
    "```\n",
    "\n",
    "Geben Sie jeden Eintrag:\n",
    "\n",
    "a) händisch aus\n",
    "\n",
    "b) mit einer Schleife aus.\n",
    "\n",
    "Erwarteter Output:\n",
    "```text\n",
    "rot\n",
    "grün\n",
    "blau\n",
    "gelb\n",
    "```"
   ]
  },
  {
   "cell_type": "code",
   "execution_count": null,
   "id": "c4acf839-64b9-41a1-a975-bbc842858d58",
   "metadata": {},
   "outputs": [],
   "source": [
    "farben = [\"rot\", \"grün\", \"blau\", \"gelb\"]"
   ]
  },
  {
   "cell_type": "markdown",
   "id": "00a33d9e",
   "metadata": {},
   "source": [
    "### Aufgabe 5: Indirekte Iteration\n",
    "\n",
    "Aufgabe:\n",
    "Geben Sie jeden Eintrag zusammen mit seinem Index aus.\n",
    "\n",
    "```python\n",
    "zahlen = [3, 7, 2, 9]\n",
    "```\n",
    "\n",
    "Erwarteter Output:\n",
    "```text\n",
    "Index 0: 3  \n",
    "Index 1: 7  \n",
    "Index 2: 2  \n",
    "Index 3: 9\n",
    "```"
   ]
  },
  {
   "cell_type": "code",
   "execution_count": null,
   "id": "b4be9ad4",
   "metadata": {},
   "outputs": [],
   "source": [
    "zahlen = [3, 7, 2, 9]"
   ]
  },
  {
   "cell_type": "markdown",
   "id": "98075fb9",
   "metadata": {},
   "source": [
    "### Aufgabe 6: Neue Liste mit verdoppelten Werten\n",
    "\n",
    "Aufgabe:\n",
    "Erstellen Sie eine neue Liste, in der jeder Wert doppelt so groß ist wie in der Original-Liste.\n",
    "\n",
    "```python\n",
    "original = [1, 2, 3, 4]\n",
    "```\n",
    "\n",
    "Erwarteter Output:\n",
    "```text\n",
    "[2, 4, 6, 8]\n",
    "```"
   ]
  },
  {
   "cell_type": "code",
   "execution_count": null,
   "id": "b372d0f9",
   "metadata": {},
   "outputs": [],
   "source": []
  },
  {
   "cell_type": "markdown",
   "id": "3a81ddc5",
   "metadata": {},
   "source": [
    "### Aufgabe 7:\n",
    "\n",
    "Erzeugen Sie Liste von -10 bis 10 mit der range Funktion und speichern Sie diese in einer Variablen. Benutzen Sie ausschließlich die Methoden der Listenklasse um folgende Manipulationen durchzuführen. \n",
    "Geben Sie die Liste nach jeder Änderung aus.\n",
    "\n",
    "1. Fügen Sie den Wert 11 am Ende der Liste ein.\n",
    "2. Erweitern Sie die Liste um [12, 13, 14].\n",
    "3. Entfernen Sie das dritte, sechste und achte Element der Liste.\n",
    "4. Fügen Sie an der zehnten Stelle den Wert 217 ein.\n",
    "5. Entfernen Sie alle geraden Zahlen aus der Liste\n",
    "6. Sortieren Sie die Liste aufsteigend.\n",
    "\n",
    "Tipp: am Ende sieht die Liste wiefolgt aus: \n",
    "Erwarteter Output:\n",
    "```text\n",
    "[-9, -7, -4, -1, 1, 3, 5, 7, 9, 11, 13, 217]\n",
    "``` "
   ]
  },
  {
   "cell_type": "markdown",
   "id": "f6ea0236",
   "metadata": {},
   "source": [
    "### Aufgabe 8:\n",
    "\n",
    "Auf der heutigen To-Do-Liste stehen einige Aufgaben drauf und es wurden auch schon ein paar davon erledigt.   \n",
    "Schreibe einen Code, welcher die Aufgaben auf der To-Do-Liste mit den erledigten Aufgaben vergleicht und gegebenenfalls auf eine neue To-Do-Liste schreibt.\n",
    "\n",
    "```python\n",
    "todo_liste = [\"Wäsche waschen\", \"Lüften\", \"Blumen im Wohnzimmer gießen\", \"Briefkasten leeren\", \"Garten gießen\", \"Einkaufen\", \"Geige üben\"]\n",
    "erledigte_aufgaben = [\"Frühstück machen\", \"Briefkasten leeren\", \"Blumen im Wohnzimmer gießen\", \"Bad putzen\", \"Lüften\"]\n",
    "```"
   ]
  },
  {
   "cell_type": "code",
   "execution_count": null,
   "id": "34115513",
   "metadata": {},
   "outputs": [],
   "source": [
    "todo_liste = [\"Wäsche waschen\", \"Lüften\", \"Blumen im Wohnzimmer gießen\", \"Briefkasten leeren\", \"Garten gießen\", \"Einkaufen\", \"Geige üben\"]\n",
    "erledigte_aufgaben = [\"Frühstück machen\", \"Briefkasten leeren\", \"Blumen im Wohnzimmer gießen\", \"Bad putzen\", \"Lüften\"]"
   ]
  },
  {
   "cell_type": "code",
   "execution_count": null,
   "id": "e4f66b71",
   "metadata": {},
   "outputs": [],
   "source": []
  },
  {
   "cell_type": "markdown",
   "id": "ead27ae4",
   "metadata": {},
   "source": [
    "### Aufgabe 9:\n",
    "\n",
    "Ganz Ebenwald ist in Aufruhr. Letzte Nacht wurde Herr Müller in seiner eigenen Wohnung von einem Unbekannten ermordet. Doch so unbekannt scheint der Mörder nicht zu sein, denn Frau Vollmer behauptet bei ihrem abentlichen Spaziergang jemanden gesehen zu haben, der das Haus von Herrn Müller gegen 22 Uhr verließ.  \n",
    "Helfen Sie der ebenwälder Polizei den Mörder zu finden, indem Sie Frau Vollmers Zeugenaussage mit dem Register der Verdächtigen abgleichen.  \n",
    "  \n",
    "Frau Vollmers Beschreibung des Verdächtigen:  \n",
    "- Männlich\n",
    "- 170-185 cm\n",
    "- Schlank\n",
    "- Dunkle Haare\n",
    "- Tiefe Stimme\n"
   ]
  },
  {
   "cell_type": "markdown",
   "id": "85ec4bce",
   "metadata": {},
   "source": []
  }
 ],
 "metadata": {
  "kernelspec": {
   "display_name": "Python 3",
   "language": "python",
   "name": "python3"
  },
  "language_info": {
   "codemirror_mode": {
    "name": "ipython",
    "version": 3
   },
   "file_extension": ".py",
   "mimetype": "text/x-python",
   "name": "python",
   "nbconvert_exporter": "python",
   "pygments_lexer": "ipython3",
   "version": "3.12.9"
  }
 },
 "nbformat": 4,
 "nbformat_minor": 5
}
